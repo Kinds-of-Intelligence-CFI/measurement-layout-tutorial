{
 "cells": [
  {
   "cell_type": "markdown",
   "metadata": {},
   "source": [
    "# Predicting performances for the Arithmetic dataset with a hierarchical measurement layout\n",
    "\n",
    "Here, I build a measurement layout with hierarchical structure for the Arithmetic dataset for the measurement layout tutorial.  \n",
    "\n",
    "From 1 to 5 digits and 4 possible operations (addition, subtraction, multiplication, division), there are 20 possible combinations. These are then 2 deterministic features, that are not very advanced however."
   ]
  },
  {
   "cell_type": "code",
   "execution_count": 1,
   "metadata": {
    "ExecuteTime": {
     "end_time": "2024-01-29T20:34:30.266531687Z",
     "start_time": "2024-01-29T20:34:26.339793143Z"
    }
   },
   "outputs": [],
   "source": [
    "import warnings\n",
    "\n",
    "# Filter warnings for the specific library you want to suppress\n",
    "warnings.filterwarnings(\"ignore\", category=FutureWarning, module=\"sklearn\")\n",
    "warnings.filterwarnings(\"ignore\", category=FutureWarning, module=\"seaborn\")\n",
    "\n",
    "import arviz as az\n",
    "import matplotlib.pyplot as plt\n",
    "import numpy as np\n",
    "import pandas as pd\n",
    "import pickle\n",
    "import pymc as pm\n",
    "import seaborn as sns\n",
    "from sklearn.linear_model import LogisticRegression\n",
    "from sklearn.metrics import roc_auc_score\n",
    "from xgboost import XGBClassifier\n",
    "\n",
    "%load_ext autoreload\n",
    "%autoreload 2"
   ]
  },
  {
   "cell_type": "code",
   "execution_count": 2,
   "metadata": {
    "ExecuteTime": {
     "end_time": "2024-01-29T20:34:30.419144366Z",
     "start_time": "2024-01-29T20:34:30.264086264Z"
    }
   },
   "outputs": [
    {
     "name": "stdout",
     "output_type": "stream",
     "text": [
      "Running on PyMC v5.9.2\n"
     ]
    }
   ],
   "source": [
    "print(f\"Running on PyMC v{pm.__version__}\")"
   ]
  },
  {
   "cell_type": "code",
   "execution_count": 3,
   "metadata": {
    "ExecuteTime": {
     "end_time": "2024-01-29T20:34:31.293647884Z",
     "start_time": "2024-01-29T20:34:30.345785853Z"
    }
   },
   "outputs": [
    {
     "name": "stdout",
     "output_type": "stream",
     "text": [
      "Python 3.11.6\r\n"
     ]
    }
   ],
   "source": [
    "!python --version"
   ]
  },
  {
   "cell_type": "markdown",
   "metadata": {},
   "source": [
    "## Define utility functions"
   ]
  },
  {
   "cell_type": "code",
   "execution_count": 4,
   "metadata": {
    "ExecuteTime": {
     "end_time": "2024-01-29T20:34:31.562397085Z",
     "start_time": "2024-01-29T20:34:31.271996581Z"
    }
   },
   "outputs": [],
   "source": [
    "# logistic function with standard parameters\n",
    "def logistic(x, x0=0, k=1):\n",
    "    \"\"\"\n",
    "    Generalized logistic function allowing to specify the center of the curve and the steepness.\n",
    "    See at https://en.wikipedia.org/wiki/Generalised_logistic_function\n",
    "\n",
    "    One can also include other parameters:\n",
    "    :math:`y(x) = \\frac{K}{(1+e^{-Bx})^{1/\\nu}}`\n",
    "    where K can be set so that the maximum value is 1 even if the domain of the parameter is bounded and\n",
    "    $\\nu$ dictates close to which asymptot maximum growth occurs. For now we keep them both fixed at 1\n",
    "\n",
    "    :param x: The x value\n",
    "    :param x0: The function is centred on x0 (where the probability is 0.5)\n",
    "    :param k: The slope (steepness) is k\n",
    "    :return:\n",
    "\n",
    "    \"\"\"\n",
    "    # notice that you cannot use scipy advanced math here as this will be used by pymc. This may not be the most\n",
    "    # efficient implementation\n",
    "    return 1 / (1 + np.exp(-k * (x - x0)))\n",
    "\n",
    "\n",
    "# the margin is just the subtraction, assuming ability and demand are *in the same scale*\n",
    "def margin(ability, demand):\n",
    "    return ability - demand\n",
    "\n",
    "\n",
    "def brierDecomp(preds, outs):\n",
    "    brier = 1 / len(preds) * sum((preds - outs) ** 2)\n",
    "    ## bin predictions\n",
    "    bins = np.linspace(0, 1, 11)\n",
    "    binCenters = (bins[:-1] + bins[1:]) / 2\n",
    "    binPredInds = np.digitize(preds, binCenters)\n",
    "    binnedPreds = bins[binPredInds]\n",
    "\n",
    "    binTrueFreqs = np.zeros(10)\n",
    "    binPredFreqs = np.zeros(10)\n",
    "    binCounts = np.zeros(10)\n",
    "\n",
    "    for i in range(10):\n",
    "        idx = (preds >= bins[i]) & (preds < bins[i + 1])\n",
    "\n",
    "        binTrueFreqs[i] = np.sum(outs[idx]) / np.sum(idx) if np.sum(idx) > 0 else 0\n",
    "        # print(np.sum(outs[idx]), np.sum(idx), binTrueFreqs[i])\n",
    "        binPredFreqs[i] = np.mean(preds[idx]) if np.sum(idx) > 0 else 0\n",
    "        binCounts[i] = np.sum(idx)\n",
    "\n",
    "    calibration = np.sum(binCounts * (binTrueFreqs - binPredFreqs) ** 2) / np.sum(binCounts) if np.sum(\n",
    "        binCounts) > 0 else 0\n",
    "    refinement = np.sum(binCounts * (binTrueFreqs * (1 - binTrueFreqs))) / np.sum(binCounts) if np.sum(\n",
    "        binCounts) > 0 else 0\n",
    "    # Compute refinement component\n",
    "    # refinement = brier - calibration\n",
    "    return brier, calibration, refinement\n",
    "\n",
    "\n",
    "# define generic function to evaluate a predictive method (such as LogisticRegression)\n",
    "def evaluate_predictive_method(df_train, df_test, features_cols, response_col, predictive_method=LogisticRegression,\n",
    "                               return_trained_method=False, compute_accuracy=False, trained_method=None, **kwargs):\n",
    "    if len(features_cols) == 1 and type(df_train[features_cols[0]].iloc[0]) == np.ndarray:\n",
    "        # if the features are already a numpy array, then don't convert to numpy array\n",
    "        features_train = np.array(list(df_train[features_cols[0]].values))\n",
    "        features_test = np.array(list(df_test[features_cols[0]].values))\n",
    "    else:\n",
    "        # traditional one\n",
    "        features_train = df_train[features_cols].to_numpy()\n",
    "        features_test = df_test[features_cols].to_numpy()\n",
    "\n",
    "    if response_col in features_cols:\n",
    "        raise ValueError(\"response_col must not be in features_cols\")\n",
    "\n",
    "    if trained_method is not None:\n",
    "        method_instance = trained_method\n",
    "    else:\n",
    "        # fit logistic regression using training features and the agent col as response\n",
    "        method_instance = predictive_method(**kwargs)\n",
    "        method_instance.fit(features_train, df_train[response_col])\n",
    "\n",
    "    # evaluate on the test set\n",
    "    y_pred = method_instance.predict_proba(features_test)[:, 1]\n",
    "\n",
    "    BrierScore, Calibration, Refinement = brierDecomp(y_pred, df_test[response_col])\n",
    "    # compute the ROC AUC using sklearn\n",
    "    if not (sum(df_test[response_col]) == 0 or sum(df_test[response_col]) == len(df_test)):\n",
    "        roc_auc = roc_auc_score(df_test[response_col], y_pred)\n",
    "    else:\n",
    "        roc_auc = np.nan\n",
    "\n",
    "    if compute_accuracy:\n",
    "        # compute accuracy by thresholding at 0.5\n",
    "        y_pred_binary = y_pred > 0.5\n",
    "        accuracy = np.mean(y_pred_binary == df_test[response_col])\n",
    "\n",
    "    return_list = [BrierScore, Calibration, Refinement, roc_auc]\n",
    "    if compute_accuracy:\n",
    "        return_list.append(accuracy)\n",
    "    if return_trained_method:\n",
    "        return_list.append(method_instance)\n",
    "    return return_list\n"
   ]
  },
  {
   "cell_type": "markdown",
   "metadata": {},
   "source": [
    "# Load real results"
   ]
  },
  {
   "cell_type": "code",
   "execution_count": 5,
   "metadata": {
    "ExecuteTime": {
     "end_time": "2024-01-29T20:34:31.729000950Z",
     "start_time": "2024-01-29T20:34:31.404320874Z"
    }
   },
   "outputs": [],
   "source": [
    "llms = [\"text-ada-001\", \"text-babbage-001\", \"text-curie-001\", \"text-davinci-001\", \"text-davinci-002\",\n",
    "        \"text-davinci-003\", \"gpt-3.5-turbo-1106\", \"gpt-4-1106-preview\", ]\n",
    "# 5 digits and 4 operations\n",
    "subtasks = [[f\"{n}_digit_{operation}\" for n in range(1, 6)] for operation in\n",
    "            [\"addition\", \"subtraction\", \"multiplication\", \"division\"]]\n",
    "# create a single list\n",
    "subtasks = [item for sublist in subtasks for item in sublist]"
   ]
  },
  {
   "cell_type": "code",
   "execution_count": 6,
   "metadata": {
    "ExecuteTime": {
     "end_time": "2024-01-29T20:34:38.850843494Z",
     "start_time": "2024-01-29T20:34:31.465618148Z"
    }
   },
   "outputs": [],
   "source": [
    "results_dict = {}\n",
    "for llm in llms:\n",
    "    results_dict[llm] = {}\n",
    "    for subtask in subtasks:\n",
    "        # print(subtask)\n",
    "        # check if this file exists: \n",
    "        # print(os.path.isfile(f\"../results/arithmetic_{subtask}/{llm}.jsonl\"))\n",
    "        results_dict[llm][subtask] = pd.read_json(f\"../data/arithmetic_results/arithmetic_{subtask}/{llm}.jsonl\", lines=True)"
   ]
  },
  {
   "cell_type": "code",
   "execution_count": 7,
   "metadata": {
    "ExecuteTime": {
     "end_time": "2024-01-29T20:34:38.940658503Z",
     "start_time": "2024-01-29T20:34:38.863093609Z"
    }
   },
   "outputs": [],
   "source": [
    "def check_answer_correct(row):\n",
    "    # strip spaces, new lines and \".\"\n",
    "    expected = row[\"match\"][\"expected\"].strip().lower().replace(\"\\n\", \"\").replace(\".\", \"\").replace(\"\\\"\", \"\")\n",
    "    sampled = row[\"match\"][\"sampled\"].strip().lower().replace(\"\\n\", \"\").replace(\".\", \"\").replace(\"\\\"\", \"\")\n",
    "\n",
    "    if expected in sampled:\n",
    "        return 1\n",
    "    else:\n",
    "        return 0\n",
    "\n",
    "\n",
    "def reformat_results_df(results_df):\n",
    "    # discard all things where run_id is nan\n",
    "    results_df = results_df[~results_df[\"run_id\"].isna()]\n",
    "    # drop the \"spec\", \"final_report\" and \"created_by\" columns\n",
    "    results_df = results_df.drop(columns=[\"spec\", \"final_report\", \"created_by\"])\n",
    "\n",
    "    # There are two events for each \"sample_id\" (one for the sampling and one for the evaluation, called \"match\").\n",
    "    # Use pivot to put them in a proper format\n",
    "    # results dataframe in a different format: one row per sample_id, where I will store the \"data\" entry for the \"sampling\" and \"metrics\" events\n",
    "    results_df = results_df.pivot(index=\"sample_id\", columns=\"type\", values=\"data\")\n",
    "    # define \"Success\"  \n",
    "    # results_df[\"Success\"] = results_df.apply(lambda x: 1 if x[\"match\"][\"correct\"] else 0, axis=1)\n",
    "    # IMPORTANT I redefine here success as the naive match does not strip nor lower the strings\n",
    "    results_df[\"Success\"] = results_df.apply(check_answer_correct, axis=1)\n",
    "    # now extract the original prompt; this depends on whether the prompt is a list or not\n",
    "    # the way the prompt is stored is different for chat and completion models\n",
    "    if isinstance(results_df.iloc[0][\"sampling\"][\"prompt\"], list):\n",
    "        results_df[\"prompt\"] = results_df.apply(lambda x: x[\"sampling\"][\"prompt\"][1][\"content\"], axis=1)\n",
    "        # print(\"prompt is a list\")\n",
    "    else:\n",
    "        results_df[\"prompt\"] = results_df.apply(lambda x: x[\"sampling\"][\"prompt\"], axis=1)\n",
    "        results_df[\"prompt\"] = results_df[\"prompt\"].apply(lambda x: x.split(\"\\nUser: \")[1].split(\"\\nAssistant:\")[0])\n",
    "        # print(\"prompt is a string\")\n",
    "    return results_df"
   ]
  },
  {
   "cell_type": "code",
   "execution_count": 8,
   "metadata": {
    "ExecuteTime": {
     "end_time": "2024-01-29T20:34:41.722802869Z",
     "start_time": "2024-01-29T20:34:38.911538097Z"
    }
   },
   "outputs": [],
   "source": [
    "# do split for all llms\n",
    "for llm in llms:\n",
    "    for subtask in subtasks:\n",
    "        results_df = reformat_results_df(results_dict[llm][subtask])\n",
    "        results_df[\"n_digits\"] = int(subtask.split(\"_\")[0])\n",
    "        results_df[\"operation\"] = subtask.split(\"_\")[2]\n",
    "        results_dict[llm][subtask] = results_df"
   ]
  },
  {
   "cell_type": "code",
   "execution_count": 9,
   "metadata": {
    "ExecuteTime": {
     "end_time": "2024-01-29T20:34:41.803066333Z",
     "start_time": "2024-01-29T20:34:41.725531649Z"
    }
   },
   "outputs": [],
   "source": [
    "# concatenate all dfs for each llm\n",
    "results_dict_all_subtasks = {}\n",
    "for llm in llms:\n",
    "    results_dict_all_subtasks[llm] = pd.concat([results_dict[llm][subtask] for subtask in subtasks])"
   ]
  },
  {
   "cell_type": "markdown",
   "metadata": {},
   "source": [
    "Create a dataframe with the success rate for each model, operation and n_digits:"
   ]
  },
  {
   "cell_type": "code",
   "execution_count": 10,
   "metadata": {
    "ExecuteTime": {
     "end_time": "2024-01-29T20:34:42.039518465Z",
     "start_time": "2024-01-29T20:34:41.801998850Z"
    }
   },
   "outputs": [],
   "source": [
    "success_rate_df = pd.DataFrame()\n",
    "for llm in llms:\n",
    "    for subtask in subtasks:\n",
    "        success_rate_df = pd.concat([success_rate_df, pd.DataFrame(\n",
    "            {\"llm\": llm, \"n_digits\": int(subtask.split(\"_\")[0]), \"operation\": subtask.split(\"_\")[2],\n",
    "             \"success_rate\": results_dict[llm][subtask][\"Success\"].sum() / len(results_dict[llm][subtask])},\n",
    "            index=[0])])"
   ]
  },
  {
   "cell_type": "code",
   "execution_count": 11,
   "metadata": {
    "ExecuteTime": {
     "end_time": "2024-01-29T20:34:45.494383206Z",
     "start_time": "2024-01-29T20:34:42.042737098Z"
    }
   },
   "outputs": [
    {
     "data": {
      "text/plain": [
       "<seaborn.axisgrid.FacetGrid at 0x7f3034b45410>"
      ]
     },
     "execution_count": 11,
     "metadata": {},
     "output_type": "execute_result"
    },
    {
     "data": {
      "image/png": "[encoded data removed]",
      "text/plain": [
       "<Figure size 4864.99x400 with 4 Axes>"
      ]
     },
     "metadata": {},
     "output_type": "display_data"
    }
   ],
   "source": [
    "sns.catplot(x=\"llm\", y=\"success_rate\", hue=\"n_digits\", col=\"operation\", data=success_rate_df, kind=\"bar\", height=4,\n",
    "            aspect=3)"
   ]
  },
  {
   "cell_type": "markdown",
   "metadata": {},
   "source": [
    "Create dummy variables for the operation type"
   ]
  },
  {
   "cell_type": "code",
   "execution_count": 12,
   "metadata": {
    "ExecuteTime": {
     "end_time": "2024-01-29T20:34:45.643520834Z",
     "start_time": "2024-01-29T20:34:45.496975172Z"
    }
   },
   "outputs": [],
   "source": [
    "for llm in llms:\n",
    "    results_dict_all_subtasks[llm][\"is_addition\"] = 0\n",
    "    results_dict_all_subtasks[llm][\"is_subtraction\"] = 0\n",
    "    results_dict_all_subtasks[llm][\"is_multiplication\"] = 0\n",
    "    results_dict_all_subtasks[llm][\"is_division\"] = 0\n",
    "    results_dict_all_subtasks[llm].loc[results_dict_all_subtasks[llm][\"operation\"] == \"addition\", \"is_addition\"] = 1\n",
    "    results_dict_all_subtasks[llm].loc[\n",
    "        results_dict_all_subtasks[llm][\"operation\"] == \"subtraction\", \"is_subtraction\"] = 1\n",
    "    results_dict_all_subtasks[llm].loc[\n",
    "        results_dict_all_subtasks[llm][\"operation\"] == \"multiplication\", \"is_multiplication\"] = 1\n",
    "    results_dict_all_subtasks[llm].loc[results_dict_all_subtasks[llm][\"operation\"] == \"division\", \"is_division\"] = 1"
   ]
  },
  {
   "cell_type": "markdown",
   "metadata": {},
   "source": [
    "Split the data into in and out of distribution; use a subset of the in-distribution data for training the assessor and then define two test sets, one with in distribution data and one with out of distribution data. I also define an \"extended\" training distribution which includes some out of distribution data (but has the same number of samples as the original training set)."
   ]
  },
  {
   "cell_type": "code",
   "execution_count": 13,
   "metadata": {
    "ExecuteTime": {
     "end_time": "2024-01-29T20:34:45.730332535Z",
     "start_time": "2024-01-29T20:34:45.608447755Z"
    }
   },
   "outputs": [
    {
     "name": "stdout",
     "output_type": "stream",
     "text": [
      "text-ada-001 11954 2989\n",
      "text-babbage-001 11954 2989\n",
      "text-curie-001 11954 2989\n",
      "text-davinci-001 11954 2989\n",
      "text-davinci-002 11954 2989\n",
      "text-davinci-003 11954 2989\n",
      "gpt-3.5-turbo-1106 1526 381\n",
      "gpt-4-1106-preview 1526 381\n"
     ]
    }
   ],
   "source": [
    "train_results_dict = {}\n",
    "test_results_dict = {}\n",
    "for llm in llms:\n",
    "    df = results_dict_all_subtasks[llm]\n",
    "    # reset index\n",
    "    df = df.reset_index(drop=True)\n",
    "    df_train = df.sample(frac=0.8, random_state=0)\n",
    "    df_test = df.drop(df_train.index)\n",
    "\n",
    "    train_results_dict[llm] = df_train\n",
    "    test_results_dict[llm] = df_test\n",
    "\n",
    "    print(llm, len(df_train), len(df_test))"
   ]
  },
  {
   "cell_type": "markdown",
   "metadata": {},
   "source": [
    "A bit more than 25% are 0's in the test set."
   ]
  },
  {
   "cell_type": "markdown",
   "metadata": {},
   "source": [
    "# Predictive assessors"
   ]
  },
  {
   "cell_type": "code",
   "execution_count": 14,
   "metadata": {
    "ExecuteTime": {
     "end_time": "2024-01-29T20:35:21.644517368Z",
     "start_time": "2024-01-29T20:34:45.706747671Z"
    }
   },
   "outputs": [
    {
     "name": "stdout",
     "output_type": "stream",
     "text": [
      "text-ada-001\n",
      "text-babbage-001\n",
      "text-curie-001\n",
      "text-davinci-001\n",
      "text-davinci-002\n",
      "text-davinci-003\n",
      "gpt-3.5-turbo-1106\n",
      "gpt-4-1106-preview\n",
      "text-ada-001\n"
     ]
    },
    {
     "name": "stderr",
     "output_type": "stream",
     "text": [
      "/home/lorenzo/miniconda3/envs/recog-LLM_capabilities_conda/lib/python3.11/site-packages/xgboost/data.py:427: FutureWarning: is_sparse is deprecated and will be removed in a future version. Check `isinstance(dtype, pd.SparseDtype)` instead.\n",
      "  if is_sparse(data):\n"
     ]
    },
    {
     "name": "stdout",
     "output_type": "stream",
     "text": [
      "text-babbage-001\n"
     ]
    },
    {
     "name": "stderr",
     "output_type": "stream",
     "text": [
      "/home/lorenzo/miniconda3/envs/recog-LLM_capabilities_conda/lib/python3.11/site-packages/xgboost/data.py:427: FutureWarning: is_sparse is deprecated and will be removed in a future version. Check `isinstance(dtype, pd.SparseDtype)` instead.\n",
      "  if is_sparse(data):\n"
     ]
    },
    {
     "name": "stdout",
     "output_type": "stream",
     "text": [
      "text-curie-001\n"
     ]
    },
    {
     "name": "stderr",
     "output_type": "stream",
     "text": [
      "/home/lorenzo/miniconda3/envs/recog-LLM_capabilities_conda/lib/python3.11/site-packages/xgboost/data.py:427: FutureWarning: is_sparse is deprecated and will be removed in a future version. Check `isinstance(dtype, pd.SparseDtype)` instead.\n",
      "  if is_sparse(data):\n"
     ]
    },
    {
     "name": "stdout",
     "output_type": "stream",
     "text": [
      "text-davinci-001\n"
     ]
    },
    {
     "name": "stderr",
     "output_type": "stream",
     "text": [
      "/home/lorenzo/miniconda3/envs/recog-LLM_capabilities_conda/lib/python3.11/site-packages/xgboost/data.py:427: FutureWarning: is_sparse is deprecated and will be removed in a future version. Check `isinstance(dtype, pd.SparseDtype)` instead.\n",
      "  if is_sparse(data):\n"
     ]
    },
    {
     "name": "stdout",
     "output_type": "stream",
     "text": [
      "text-davinci-002\n"
     ]
    },
    {
     "name": "stderr",
     "output_type": "stream",
     "text": [
      "/home/lorenzo/miniconda3/envs/recog-LLM_capabilities_conda/lib/python3.11/site-packages/xgboost/data.py:427: FutureWarning: is_sparse is deprecated and will be removed in a future version. Check `isinstance(dtype, pd.SparseDtype)` instead.\n",
      "  if is_sparse(data):\n"
     ]
    },
    {
     "name": "stdout",
     "output_type": "stream",
     "text": [
      "text-davinci-003\n"
     ]
    },
    {
     "name": "stderr",
     "output_type": "stream",
     "text": [
      "/home/lorenzo/miniconda3/envs/recog-LLM_capabilities_conda/lib/python3.11/site-packages/xgboost/data.py:427: FutureWarning: is_sparse is deprecated and will be removed in a future version. Check `isinstance(dtype, pd.SparseDtype)` instead.\n",
      "  if is_sparse(data):\n"
     ]
    },
    {
     "name": "stdout",
     "output_type": "stream",
     "text": [
      "gpt-3.5-turbo-1106\n"
     ]
    },
    {
     "name": "stderr",
     "output_type": "stream",
     "text": [
      "/home/lorenzo/miniconda3/envs/recog-LLM_capabilities_conda/lib/python3.11/site-packages/xgboost/data.py:427: FutureWarning: is_sparse is deprecated and will be removed in a future version. Check `isinstance(dtype, pd.SparseDtype)` instead.\n",
      "  if is_sparse(data):\n"
     ]
    },
    {
     "name": "stdout",
     "output_type": "stream",
     "text": [
      "gpt-4-1106-preview\n"
     ]
    },
    {
     "name": "stderr",
     "output_type": "stream",
     "text": [
      "/home/lorenzo/miniconda3/envs/recog-LLM_capabilities_conda/lib/python3.11/site-packages/xgboost/data.py:427: FutureWarning: is_sparse is deprecated and will be removed in a future version. Check `isinstance(dtype, pd.SparseDtype)` instead.\n",
      "  if is_sparse(data):\n"
     ]
    }
   ],
   "source": [
    "list_features = ['n_digits', \"is_addition\", \"is_subtraction\", \"is_multiplication\"]\n",
    "\n",
    "predictive_methods_df = pd.DataFrame()\n",
    "for predictive_method in [LogisticRegression, XGBClassifier]:\n",
    "    for llm in llms:\n",
    "        print(llm)\n",
    "        df_train = train_results_dict[llm]  # default training set\n",
    "        df_test = test_results_dict[llm]  # default test set\n",
    "        # in distribution performance\n",
    "        BrierScore, Calibration, Refinement, roc_auc, trained_method = evaluate_predictive_method(df_train, df_test,\n",
    "                                                                                                  list_features,\n",
    "                                                                                                  \"Success\",\n",
    "                                                                                                  predictive_method=predictive_method,\n",
    "                                                                                                  return_trained_method=True)\n",
    "        predictive_methods_df = pd.concat([predictive_methods_df, pd.DataFrame(\n",
    "            {\"predictive_method\": predictive_method.__name__, \"llm\": llm, \"BrierScore\": BrierScore,\n",
    "             \"Calibration\": Calibration, \"Refinement\": Refinement, \"AUROC\": roc_auc, \"trained_method\": trained_method},\n",
    "            index=[0])])\n",
    "\n",
    "        for baseline in [\"always_1\", \"always_0\", \"average_success_on_train\"]:\n",
    "            if baseline == \"always_1\":\n",
    "                predictions = np.ones(len(df_test))\n",
    "            elif baseline == \"always_0\":\n",
    "                predictions = np.zeros(len(df_test))\n",
    "            elif baseline == \"average_success_on_train\":\n",
    "                predictions = np.ones(len(df_test)) * df_train[\"Success\"].mean()\n",
    "            else:\n",
    "                raise ValueError(\"baseline not recognized\")\n",
    "\n",
    "            BrierScore, Calibration, Refinement = brierDecomp(predictions, df_test[\"Success\"])\n",
    "            roc_auc = roc_auc_score(df_test[\"Success\"], predictions)\n",
    "            predictive_methods_df = pd.concat([predictive_methods_df, pd.DataFrame(\n",
    "                {\"predictive_method\": baseline, \"llm\": llm, \"BrierScore\": BrierScore, \"Calibration\": Calibration,\n",
    "                 \"Refinement\": Refinement, \"AUROC\": roc_auc, }, index=[0])])\n"
   ]
  },
  {
   "cell_type": "code",
   "execution_count": 15,
   "metadata": {
    "ExecuteTime": {
     "end_time": "2024-01-29T20:35:21.735974913Z",
     "start_time": "2024-01-29T20:35:21.646585276Z"
    }
   },
   "outputs": [
    {
     "data": {
      "text/html": [
       "<div>\n",
       "<style scoped>\n",
       "    .dataframe tbody tr th:only-of-type {\n",
       "        vertical-align: middle;\n",
       "    }\n",
       "\n",
       "    .dataframe tbody tr th {\n",
       "        vertical-align: top;\n",
       "    }\n",
       "\n",
       "    .dataframe thead th {\n",
       "        text-align: right;\n",
       "    }\n",
       "</style>\n",
       "<table border=\"1\" class=\"dataframe\">\n",
       "  <thead>\n",
       "    <tr style=\"text-align: right;\">\n",
       "      <th></th>\n",
       "      <th>predictive_method</th>\n",
       "      <th>llm</th>\n",
       "      <th>AUROC</th>\n",
       "      <th>BrierScore</th>\n",
       "      <th>Calibration</th>\n",
       "      <th>Refinement</th>\n",
       "    </tr>\n",
       "  </thead>\n",
       "  <tbody>\n",
       "    <tr>\n",
       "      <th>0</th>\n",
       "      <td>XGBClassifier</td>\n",
       "      <td>gpt-3.5-turbo-1106</td>\n",
       "      <td>0.978919</td>\n",
       "      <td>0.025713</td>\n",
       "      <td>0.003978</td>\n",
       "      <td>0.022917</td>\n",
       "    </tr>\n",
       "    <tr>\n",
       "      <th>0</th>\n",
       "      <td>LogisticRegression</td>\n",
       "      <td>gpt-3.5-turbo-1106</td>\n",
       "      <td>0.975170</td>\n",
       "      <td>0.029273</td>\n",
       "      <td>0.007446</td>\n",
       "      <td>0.022041</td>\n",
       "    </tr>\n",
       "    <tr>\n",
       "      <th>0</th>\n",
       "      <td>LogisticRegression</td>\n",
       "      <td>gpt-4-1106-preview</td>\n",
       "      <td>0.986587</td>\n",
       "      <td>0.029532</td>\n",
       "      <td>0.000414</td>\n",
       "      <td>0.029133</td>\n",
       "    </tr>\n",
       "    <tr>\n",
       "      <th>0</th>\n",
       "      <td>XGBClassifier</td>\n",
       "      <td>gpt-4-1106-preview</td>\n",
       "      <td>0.974819</td>\n",
       "      <td>0.030780</td>\n",
       "      <td>0.000947</td>\n",
       "      <td>0.029639</td>\n",
       "    </tr>\n",
       "    <tr>\n",
       "      <th>0</th>\n",
       "      <td>XGBClassifier</td>\n",
       "      <td>text-ada-001</td>\n",
       "      <td>0.889085</td>\n",
       "      <td>0.032555</td>\n",
       "      <td>0.000145</td>\n",
       "      <td>0.033845</td>\n",
       "    </tr>\n",
       "    <tr>\n",
       "      <th>...</th>\n",
       "      <td>...</td>\n",
       "      <td>...</td>\n",
       "      <td>...</td>\n",
       "      <td>...</td>\n",
       "      <td>...</td>\n",
       "      <td>...</td>\n",
       "    </tr>\n",
       "    <tr>\n",
       "      <th>0</th>\n",
       "      <td>always_1</td>\n",
       "      <td>text-babbage-001</td>\n",
       "      <td>0.500000</td>\n",
       "      <td>0.941787</td>\n",
       "      <td>0.000000</td>\n",
       "      <td>0.000000</td>\n",
       "    </tr>\n",
       "    <tr>\n",
       "      <th>0</th>\n",
       "      <td>always_1</td>\n",
       "      <td>text-curie-001</td>\n",
       "      <td>0.500000</td>\n",
       "      <td>0.951823</td>\n",
       "      <td>0.000000</td>\n",
       "      <td>0.000000</td>\n",
       "    </tr>\n",
       "    <tr>\n",
       "      <th>0</th>\n",
       "      <td>always_1</td>\n",
       "      <td>text-curie-001</td>\n",
       "      <td>0.500000</td>\n",
       "      <td>0.951823</td>\n",
       "      <td>0.000000</td>\n",
       "      <td>0.000000</td>\n",
       "    </tr>\n",
       "    <tr>\n",
       "      <th>0</th>\n",
       "      <td>always_1</td>\n",
       "      <td>text-ada-001</td>\n",
       "      <td>0.500000</td>\n",
       "      <td>0.962195</td>\n",
       "      <td>0.000000</td>\n",
       "      <td>0.000000</td>\n",
       "    </tr>\n",
       "    <tr>\n",
       "      <th>0</th>\n",
       "      <td>always_1</td>\n",
       "      <td>text-ada-001</td>\n",
       "      <td>0.500000</td>\n",
       "      <td>0.962195</td>\n",
       "      <td>0.000000</td>\n",
       "      <td>0.000000</td>\n",
       "    </tr>\n",
       "  </tbody>\n",
       "</table>\n",
       "<p>64 rows × 6 columns</p>\n",
       "</div>"
      ],
      "text/plain": [
       "     predictive_method                 llm     AUROC  BrierScore  Calibration  \\\n",
       "0        XGBClassifier  gpt-3.5-turbo-1106  0.978919    0.025713     0.003978   \n",
       "0   LogisticRegression  gpt-3.5-turbo-1106  0.975170    0.029273     0.007446   \n",
       "0   LogisticRegression  gpt-4-1106-preview  0.986587    0.029532     0.000414   \n",
       "0        XGBClassifier  gpt-4-1106-preview  0.974819    0.030780     0.000947   \n",
       "0        XGBClassifier        text-ada-001  0.889085    0.032555     0.000145   \n",
       "..                 ...                 ...       ...         ...          ...   \n",
       "0             always_1    text-babbage-001  0.500000    0.941787     0.000000   \n",
       "0             always_1      text-curie-001  0.500000    0.951823     0.000000   \n",
       "0             always_1      text-curie-001  0.500000    0.951823     0.000000   \n",
       "0             always_1        text-ada-001  0.500000    0.962195     0.000000   \n",
       "0             always_1        text-ada-001  0.500000    0.962195     0.000000   \n",
       "\n",
       "    Refinement  \n",
       "0     0.022917  \n",
       "0     0.022041  \n",
       "0     0.029133  \n",
       "0     0.029639  \n",
       "0     0.033845  \n",
       "..         ...  \n",
       "0     0.000000  \n",
       "0     0.000000  \n",
       "0     0.000000  \n",
       "0     0.000000  \n",
       "0     0.000000  \n",
       "\n",
       "[64 rows x 6 columns]"
      ]
     },
     "execution_count": 15,
     "metadata": {},
     "output_type": "execute_result"
    }
   ],
   "source": [
    "predictive_methods_df[['predictive_method', 'llm', 'AUROC', 'BrierScore', 'Calibration', 'Refinement']].sort_values(\n",
    "    by=\"BrierScore\")"
   ]
  },
  {
   "cell_type": "markdown",
   "metadata": {},
   "source": [
    "Add  baselines:"
   ]
  },
  {
   "cell_type": "code",
   "execution_count": 16,
   "metadata": {
    "ExecuteTime": {
     "end_time": "2024-01-29T20:35:24.697041813Z",
     "start_time": "2024-01-29T20:35:21.713353227Z"
    }
   },
   "outputs": [
    {
     "data": {
      "text/plain": [
       "Text(0.5, 1.0, 'In distribution')"
      ]
     },
     "execution_count": 16,
     "metadata": {},
     "output_type": "execute_result"
    },
    {
     "data": {
      "image/png": "[encoded data removed]",
      "text/plain": [
       "<Figure size 1431.75x400 with 1 Axes>"
      ]
     },
     "metadata": {},
     "output_type": "display_data"
    }
   ],
   "source": [
    "sns.catplot(x=\"llm\", y=\"BrierScore\", hue=\"predictive_method\", data=predictive_methods_df, kind=\"bar\", height=4,\n",
    "            aspect=3)\n",
    "# set the ylim\n",
    "plt.ylim(0, 0.3)\n",
    "plt.title(\"In distribution\")"
   ]
  },
  {
   "cell_type": "markdown",
   "metadata": {},
   "source": [
    "# Build a measurement layout"
   ]
  },
  {
   "cell_type": "code",
   "execution_count": 17,
   "metadata": {
    "ExecuteTime": {
     "end_time": "2024-01-29T20:35:24.826232622Z",
     "start_time": "2024-01-29T20:35:24.709736895Z"
    }
   },
   "outputs": [],
   "source": [
    "def setup_arithmetic_hierarchical_model(data, noise=False, slopes=False):\n",
    "    m = pm.Model()\n",
    "    with m:\n",
    "        ### Task Features (demands) as Deterministic\n",
    "        n_digits_demands = pm.MutableData(\"n_digits\", data[\"n_digits\"].values)\n",
    "        is_addition = pm.MutableData(\"is_addition\", data[\"is_addition\"].values)\n",
    "        is_subtraction = pm.MutableData(\"is_subtraction\", data[\"is_subtraction\"].values)\n",
    "        is_multiplication = pm.MutableData(\"is_multiplication\", data[\"is_multiplication\"].values)\n",
    "        is_division = pm.MutableData(\"is_division\", data[\"is_division\"].values)\n",
    "\n",
    "        ### prior on the general n_digits capability\n",
    "        n_digits_capability = pm.Exponential(\"n_digits_capability\", lam=1)\n",
    "        ### Define a capability for each n_digit operation individually, with mean being the general n_digits capability\n",
    "        n_digits_addition_capability = pm.Exponential(\"n_digits_addition_capability\", lam=1 / n_digits_capability)\n",
    "        n_digits_subtraction_capability = pm.Exponential(\"n_digits_subtraction_capability\", lam=1 / n_digits_capability)\n",
    "        n_digits_multiplication_capability = pm.Exponential(\"n_digits_multiplication_capability\",\n",
    "                                                            lam=1 / n_digits_capability)\n",
    "        n_digits_division_capability = pm.Exponential(\"n_digits_division_capability\", lam=1 / n_digits_capability)\n",
    "\n",
    "        if noise:\n",
    "            noise_level = pm.Uniform(\"noise_level\", 0, 1)\n",
    "            average_success = data[\"Success\"].mean()  # this is using data twice\n",
    "\n",
    "        if slopes:\n",
    "            # add slopes parameters for all of the three capabilities. We want a distribution with positive support only and peaked at 1:\n",
    "            # use a gamma distribution:\n",
    "            alpha = beta = 15  # these lead to a mean of 1 and standard deviation of 0.26 for the prior\n",
    "            n_digits_slope = pm.Gamma(\"n_digits_slope\", alpha, beta)\n",
    "\n",
    "        ###  margin between capability and demands\n",
    "        n_digits_addition_margin = pm.Deterministic(\"n_digits_addition_margin\",\n",
    "                                                    logistic(margin(n_digits_addition_capability, n_digits_demands),\n",
    "                                                             k=n_digits_slope if slopes else 1))\n",
    "        n_digits_subtraction_margin = pm.Deterministic(\"n_digits_subtraction_margin\", logistic(\n",
    "            margin(n_digits_subtraction_capability, n_digits_demands), k=n_digits_slope if slopes else 1))\n",
    "        n_digits_multiplication_margin = pm.Deterministic(\"n_digits_multiplication_margin\", logistic(\n",
    "            margin(n_digits_multiplication_capability, n_digits_demands), k=n_digits_slope if slopes else 1))\n",
    "        n_digits_division_margin = pm.Deterministic(\"n_digits_division_margin\",\n",
    "                                                    logistic(margin(n_digits_division_capability, n_digits_demands),\n",
    "                                                             k=n_digits_slope if slopes else 1))\n",
    "\n",
    "        p_before_noise = pm.Deterministic(\"p_before_noise\",\n",
    "                                          n_digits_addition_margin * is_addition + n_digits_subtraction_margin * is_subtraction + n_digits_multiplication_margin * is_multiplication + n_digits_division_margin * is_division)\n",
    "\n",
    "        if noise:\n",
    "            integrated_p = pm.Deterministic(\"finalP\",\n",
    "                                            (1 - noise_level) * p_before_noise + noise_level * average_success)\n",
    "        else:\n",
    "            integrated_p = pm.Deterministic(\"finalP\", p_before_noise)\n",
    "\n",
    "        TaskPerformance = pm.Bernoulli(\"TaskPerformance\", integrated_p, observed=data[\"Success\"].values)\n",
    "    return m"
   ]
  },
  {
   "cell_type": "code",
   "execution_count": 18,
   "metadata": {
    "ExecuteTime": {
     "end_time": "2024-01-29T20:35:24.915997219Z",
     "start_time": "2024-01-29T20:35:24.765999379Z"
    }
   },
   "outputs": [],
   "source": [
    "train_df = train_results_dict[\"gpt-3.5-turbo-1106\"]"
   ]
  },
  {
   "cell_type": "code",
   "execution_count": 19,
   "metadata": {
    "ExecuteTime": {
     "end_time": "2024-01-29T20:35:34.912119026Z",
     "start_time": "2024-01-29T20:35:24.807914823Z"
    }
   },
   "outputs": [
    {
     "data": {
      "image/svg+xml": [
       "<?xml version=\"1.0\" encoding=\"UTF-8\" standalone=\"no\"?>\n",
       "<!DOCTYPE svg PUBLIC \"-//W3C//DTD SVG 1.1//EN\"\n",
       " \"http://www.w3.org/Graphics/SVG/1.1/DTD/svg11.dtd\">\n",
       "<!-- Generated by graphviz version 2.50.0 (0)\n",
       " -->\n",
       "<!-- Pages: 1 -->\n",
       "<svg width=\"2838pt\" height=\"633pt\"\n",
       " viewBox=\"0.00 0.00 2838.29 632.81\" xmlns=\"http://www.w3.org/2000/svg\" xmlns:xlink=\"http://www.w3.org/1999/xlink\">\n",
       "<g id=\"graph0\" class=\"graph\" transform=\"scale(1 1) rotate(0) translate(4 628.81)\">\n",
       "<polygon fill=\"white\" stroke=\"transparent\" points=\"-4,4 -4,-628.81 2834.29,-628.81 2834.29,4 -4,4\"/>\n",
       "<g id=\"clust1\" class=\"cluster\">\n",
       "<title>cluster1526</title>\n",
       "<path fill=\"none\" stroke=\"black\" d=\"M20,-8C20,-8 1455,-8 1455,-8 1461,-8 1467,-14 1467,-20 1467,-20 1467,-498.88 1467,-498.88 1467,-504.88 1461,-510.88 1455,-510.88 1455,-510.88 20,-510.88 20,-510.88 14,-510.88 8,-504.88 8,-498.88 8,-498.88 8,-20 8,-20 8,-14 14,-8 20,-8\"/>\n",
       "<text text-anchor=\"middle\" x=\"1440.5\" y=\"-15.8\" font-family=\"Times,serif\" font-size=\"14.00\">1526</text>\n",
       "</g>\n",
       "<!-- TaskPerformance -->\n",
       "<g id=\"node1\" class=\"node\">\n",
       "<title>TaskPerformance</title>\n",
       "<ellipse fill=\"lightgrey\" stroke=\"black\" cx=\"1047\" cy=\"-76.48\" rx=\"98.99\" ry=\"37.45\"/>\n",
       "<text text-anchor=\"middle\" x=\"1047\" y=\"-87.78\" font-family=\"Times,serif\" font-size=\"14.00\">TaskPerformance</text>\n",
       "<text text-anchor=\"middle\" x=\"1047\" y=\"-72.78\" font-family=\"Times,serif\" font-size=\"14.00\">~</text>\n",
       "<text text-anchor=\"middle\" x=\"1047\" y=\"-57.78\" font-family=\"Times,serif\" font-size=\"14.00\">Bernoulli</text>\n",
       "</g>\n",
       "<!-- n_digits_subtraction_margin -->\n",
       "<g id=\"node2\" class=\"node\">\n",
       "<title>n_digits_subtraction_margin</title>\n",
       "<polygon fill=\"none\" stroke=\"black\" points=\"1323.5,-402.91 1104.5,-402.91 1104.5,-349.91 1323.5,-349.91 1323.5,-402.91\"/>\n",
       "<text text-anchor=\"middle\" x=\"1214\" y=\"-387.71\" font-family=\"Times,serif\" font-size=\"14.00\">n_digits_subtraction_margin</text>\n",
       "<text text-anchor=\"middle\" x=\"1214\" y=\"-372.71\" font-family=\"Times,serif\" font-size=\"14.00\">~</text>\n",
       "<text text-anchor=\"middle\" x=\"1214\" y=\"-357.71\" font-family=\"Times,serif\" font-size=\"14.00\">Deterministic</text>\n",
       "</g>\n",
       "<!-- p_before_noise -->\n",
       "<g id=\"node5\" class=\"node\">\n",
       "<title>p_before_noise</title>\n",
       "<polygon fill=\"none\" stroke=\"black\" points=\"796,-302.93 674,-302.93 674,-249.93 796,-249.93 796,-302.93\"/>\n",
       "<text text-anchor=\"middle\" x=\"735\" y=\"-287.73\" font-family=\"Times,serif\" font-size=\"14.00\">p_before_noise</text>\n",
       "<text text-anchor=\"middle\" x=\"735\" y=\"-272.73\" font-family=\"Times,serif\" font-size=\"14.00\">~</text>\n",
       "<text text-anchor=\"middle\" x=\"735\" y=\"-257.73\" font-family=\"Times,serif\" font-size=\"14.00\">Deterministic</text>\n",
       "</g>\n",
       "<!-- n_digits_subtraction_margin&#45;&gt;p_before_noise -->\n",
       "<g id=\"edge13\" class=\"edge\">\n",
       "<title>n_digits_subtraction_margin&#45;&gt;p_before_noise</title>\n",
       "<path fill=\"none\" stroke=\"black\" d=\"M1104.43,-351.87C1101.25,-351.21 1098.1,-350.55 1095,-349.91 994.84,-329.09 878.82,-305.9 806.16,-291.48\"/>\n",
       "<polygon fill=\"black\" stroke=\"black\" points=\"806.69,-288.02 796.2,-289.51 805.33,-294.89 806.69,-288.02\"/>\n",
       "</g>\n",
       "<!-- is_subtraction -->\n",
       "<g id=\"node3\" class=\"node\">\n",
       "<title>is_subtraction</title>\n",
       "<path fill=\"lightgrey\" stroke=\"black\" d=\"M1446.5,-402.91C1446.5,-402.91 1353.5,-402.91 1353.5,-402.91 1347.5,-402.91 1341.5,-396.91 1341.5,-390.91 1341.5,-390.91 1341.5,-361.91 1341.5,-361.91 1341.5,-355.91 1347.5,-349.91 1353.5,-349.91 1353.5,-349.91 1446.5,-349.91 1446.5,-349.91 1452.5,-349.91 1458.5,-355.91 1458.5,-361.91 1458.5,-361.91 1458.5,-390.91 1458.5,-390.91 1458.5,-396.91 1452.5,-402.91 1446.5,-402.91\"/>\n",
       "<text text-anchor=\"middle\" x=\"1400\" y=\"-387.71\" font-family=\"Times,serif\" font-size=\"14.00\">is_subtraction</text>\n",
       "<text text-anchor=\"middle\" x=\"1400\" y=\"-372.71\" font-family=\"Times,serif\" font-size=\"14.00\">~</text>\n",
       "<text text-anchor=\"middle\" x=\"1400\" y=\"-357.71\" font-family=\"Times,serif\" font-size=\"14.00\">MutableData</text>\n",
       "</g>\n",
       "<!-- is_subtraction&#45;&gt;p_before_noise -->\n",
       "<g id=\"edge14\" class=\"edge\">\n",
       "<title>is_subtraction&#45;&gt;p_before_noise</title>\n",
       "<path fill=\"none\" stroke=\"black\" d=\"M1341.43,-352.19C1338.6,-351.36 1335.78,-350.59 1333,-349.91 1146.43,-303.83 919.58,-286.56 806.41,-280.48\"/>\n",
       "<polygon fill=\"black\" stroke=\"black\" points=\"806.31,-276.97 796.14,-279.94 805.95,-283.96 806.31,-276.97\"/>\n",
       "</g>\n",
       "<!-- n_digits_division_margin -->\n",
       "<g id=\"node4\" class=\"node\">\n",
       "<title>n_digits_division_margin</title>\n",
       "<polygon fill=\"none\" stroke=\"black\" points=\"831.5,-402.91 638.5,-402.91 638.5,-349.91 831.5,-349.91 831.5,-402.91\"/>\n",
       "<text text-anchor=\"middle\" x=\"735\" y=\"-387.71\" font-family=\"Times,serif\" font-size=\"14.00\">n_digits_division_margin</text>\n",
       "<text text-anchor=\"middle\" x=\"735\" y=\"-372.71\" font-family=\"Times,serif\" font-size=\"14.00\">~</text>\n",
       "<text text-anchor=\"middle\" x=\"735\" y=\"-357.71\" font-family=\"Times,serif\" font-size=\"14.00\">Deterministic</text>\n",
       "</g>\n",
       "<!-- n_digits_division_margin&#45;&gt;p_before_noise -->\n",
       "<g id=\"edge15\" class=\"edge\">\n",
       "<title>n_digits_division_margin&#45;&gt;p_before_noise</title>\n",
       "<path fill=\"none\" stroke=\"black\" d=\"M735,-349.66C735,-338.53 735,-325.3 735,-313.23\"/>\n",
       "<polygon fill=\"black\" stroke=\"black\" points=\"738.5,-313 735,-303 731.5,-313 738.5,-313\"/>\n",
       "</g>\n",
       "<!-- finalP -->\n",
       "<g id=\"node11\" class=\"node\">\n",
       "<title>finalP</title>\n",
       "<polygon fill=\"none\" stroke=\"black\" points=\"1104,-202.95 990,-202.95 990,-149.95 1104,-149.95 1104,-202.95\"/>\n",
       "<text text-anchor=\"middle\" x=\"1047\" y=\"-187.75\" font-family=\"Times,serif\" font-size=\"14.00\">finalP</text>\n",
       "<text text-anchor=\"middle\" x=\"1047\" y=\"-172.75\" font-family=\"Times,serif\" font-size=\"14.00\">~</text>\n",
       "<text text-anchor=\"middle\" x=\"1047\" y=\"-157.75\" font-family=\"Times,serif\" font-size=\"14.00\">Deterministic</text>\n",
       "</g>\n",
       "<!-- p_before_noise&#45;&gt;finalP -->\n",
       "<g id=\"edge22\" class=\"edge\">\n",
       "<title>p_before_noise&#45;&gt;finalP</title>\n",
       "<path fill=\"none\" stroke=\"black\" d=\"M796.27,-256.19C849.26,-239.55 925.71,-215.54 980.24,-198.42\"/>\n",
       "<polygon fill=\"black\" stroke=\"black\" points=\"981.32,-201.75 989.82,-195.41 979.23,-195.07 981.32,-201.75\"/>\n",
       "</g>\n",
       "<!-- n_digits_multiplication_margin -->\n",
       "<g id=\"node6\" class=\"node\">\n",
       "<title>n_digits_multiplication_margin</title>\n",
       "<polygon fill=\"none\" stroke=\"black\" points=\"1086,-402.91 850,-402.91 850,-349.91 1086,-349.91 1086,-402.91\"/>\n",
       "<text text-anchor=\"middle\" x=\"968\" y=\"-387.71\" font-family=\"Times,serif\" font-size=\"14.00\">n_digits_multiplication_margin</text>\n",
       "<text text-anchor=\"middle\" x=\"968\" y=\"-372.71\" font-family=\"Times,serif\" font-size=\"14.00\">~</text>\n",
       "<text text-anchor=\"middle\" x=\"968\" y=\"-357.71\" font-family=\"Times,serif\" font-size=\"14.00\">Deterministic</text>\n",
       "</g>\n",
       "<!-- n_digits_multiplication_margin&#45;&gt;p_before_noise -->\n",
       "<g id=\"edge16\" class=\"edge\">\n",
       "<title>n_digits_multiplication_margin&#45;&gt;p_before_noise</title>\n",
       "<path fill=\"none\" stroke=\"black\" d=\"M907.09,-349.79C875.92,-336.68 837.81,-320.66 805.39,-307.03\"/>\n",
       "<polygon fill=\"black\" stroke=\"black\" points=\"806.54,-303.71 795.96,-303.06 803.82,-310.17 806.54,-303.71\"/>\n",
       "</g>\n",
       "<!-- n_digits -->\n",
       "<g id=\"node7\" class=\"node\">\n",
       "<title>n_digits</title>\n",
       "<path fill=\"lightgrey\" stroke=\"black\" d=\"M894,-502.88C894,-502.88 808,-502.88 808,-502.88 802,-502.88 796,-496.88 796,-490.88 796,-490.88 796,-461.88 796,-461.88 796,-455.88 802,-449.88 808,-449.88 808,-449.88 894,-449.88 894,-449.88 900,-449.88 906,-455.88 906,-461.88 906,-461.88 906,-490.88 906,-490.88 906,-496.88 900,-502.88 894,-502.88\"/>\n",
       "<text text-anchor=\"middle\" x=\"851\" y=\"-487.68\" font-family=\"Times,serif\" font-size=\"14.00\">n_digits</text>\n",
       "<text text-anchor=\"middle\" x=\"851\" y=\"-472.68\" font-family=\"Times,serif\" font-size=\"14.00\">~</text>\n",
       "<text text-anchor=\"middle\" x=\"851\" y=\"-457.68\" font-family=\"Times,serif\" font-size=\"14.00\">MutableData</text>\n",
       "</g>\n",
       "<!-- n_digits&#45;&gt;n_digits_subtraction_margin -->\n",
       "<g id=\"edge7\" class=\"edge\">\n",
       "<title>n_digits&#45;&gt;n_digits_subtraction_margin</title>\n",
       "<path fill=\"none\" stroke=\"black\" d=\"M906.13,-460.5C960.01,-445.96 1043.38,-423.46 1109.78,-405.54\"/>\n",
       "<polygon fill=\"black\" stroke=\"black\" points=\"1110.7,-408.91 1119.44,-402.93 1108.88,-402.15 1110.7,-408.91\"/>\n",
       "</g>\n",
       "<!-- n_digits&#45;&gt;n_digits_division_margin -->\n",
       "<g id=\"edge11\" class=\"edge\">\n",
       "<title>n_digits&#45;&gt;n_digits_division_margin</title>\n",
       "<path fill=\"none\" stroke=\"black\" d=\"M820.52,-449.64C806,-437.38 788.49,-422.58 773.1,-409.59\"/>\n",
       "<polygon fill=\"black\" stroke=\"black\" points=\"775.17,-406.76 765.27,-402.98 770.66,-412.1 775.17,-406.76\"/>\n",
       "</g>\n",
       "<!-- n_digits&#45;&gt;n_digits_multiplication_margin -->\n",
       "<g id=\"edge9\" class=\"edge\">\n",
       "<title>n_digits&#45;&gt;n_digits_multiplication_margin</title>\n",
       "<path fill=\"none\" stroke=\"black\" d=\"M881.74,-449.64C896.38,-437.38 914.05,-422.58 929.57,-409.59\"/>\n",
       "<polygon fill=\"black\" stroke=\"black\" points=\"932.05,-412.08 937.46,-402.98 927.55,-406.71 932.05,-412.08\"/>\n",
       "</g>\n",
       "<!-- n_digits_addition_margin -->\n",
       "<g id=\"node10\" class=\"node\">\n",
       "<title>n_digits_addition_margin</title>\n",
       "<polygon fill=\"none\" stroke=\"black\" points=\"620,-402.91 424,-402.91 424,-349.91 620,-349.91 620,-402.91\"/>\n",
       "<text text-anchor=\"middle\" x=\"522\" y=\"-387.71\" font-family=\"Times,serif\" font-size=\"14.00\">n_digits_addition_margin</text>\n",
       "<text text-anchor=\"middle\" x=\"522\" y=\"-372.71\" font-family=\"Times,serif\" font-size=\"14.00\">~</text>\n",
       "<text text-anchor=\"middle\" x=\"522\" y=\"-357.71\" font-family=\"Times,serif\" font-size=\"14.00\">Deterministic</text>\n",
       "</g>\n",
       "<!-- n_digits&#45;&gt;n_digits_addition_margin -->\n",
       "<g id=\"edge5\" class=\"edge\">\n",
       "<title>n_digits&#45;&gt;n_digits_addition_margin</title>\n",
       "<path fill=\"none\" stroke=\"black\" d=\"M795.93,-458.98C747.43,-444.54 675.69,-423.18 617.8,-405.93\"/>\n",
       "<polygon fill=\"black\" stroke=\"black\" points=\"618.48,-402.49 607.89,-402.99 616.48,-409.19 618.48,-402.49\"/>\n",
       "</g>\n",
       "<!-- is_multiplication -->\n",
       "<g id=\"node8\" class=\"node\">\n",
       "<title>is_multiplication</title>\n",
       "<path fill=\"lightgrey\" stroke=\"black\" d=\"M394,-402.91C394,-402.91 284,-402.91 284,-402.91 278,-402.91 272,-396.91 272,-390.91 272,-390.91 272,-361.91 272,-361.91 272,-355.91 278,-349.91 284,-349.91 284,-349.91 394,-349.91 394,-349.91 400,-349.91 406,-355.91 406,-361.91 406,-361.91 406,-390.91 406,-390.91 406,-396.91 400,-402.91 394,-402.91\"/>\n",
       "<text text-anchor=\"middle\" x=\"339\" y=\"-387.71\" font-family=\"Times,serif\" font-size=\"14.00\">is_multiplication</text>\n",
       "<text text-anchor=\"middle\" x=\"339\" y=\"-372.71\" font-family=\"Times,serif\" font-size=\"14.00\">~</text>\n",
       "<text text-anchor=\"middle\" x=\"339\" y=\"-357.71\" font-family=\"Times,serif\" font-size=\"14.00\">MutableData</text>\n",
       "</g>\n",
       "<!-- is_multiplication&#45;&gt;p_before_noise -->\n",
       "<g id=\"edge18\" class=\"edge\">\n",
       "<title>is_multiplication&#45;&gt;p_before_noise</title>\n",
       "<path fill=\"none\" stroke=\"black\" d=\"M406.02,-352.51C409.05,-351.61 412.05,-350.73 415,-349.91 499.6,-326.2 598.43,-304.75 663.62,-291.44\"/>\n",
       "<polygon fill=\"black\" stroke=\"black\" points=\"664.69,-294.8 673.79,-289.38 663.29,-287.94 664.69,-294.8\"/>\n",
       "</g>\n",
       "<!-- is_division -->\n",
       "<g id=\"node9\" class=\"node\">\n",
       "<title>is_division</title>\n",
       "<path fill=\"lightgrey\" stroke=\"black\" d=\"M242,-402.91C242,-402.91 156,-402.91 156,-402.91 150,-402.91 144,-396.91 144,-390.91 144,-390.91 144,-361.91 144,-361.91 144,-355.91 150,-349.91 156,-349.91 156,-349.91 242,-349.91 242,-349.91 248,-349.91 254,-355.91 254,-361.91 254,-361.91 254,-390.91 254,-390.91 254,-396.91 248,-402.91 242,-402.91\"/>\n",
       "<text text-anchor=\"middle\" x=\"199\" y=\"-387.71\" font-family=\"Times,serif\" font-size=\"14.00\">is_division</text>\n",
       "<text text-anchor=\"middle\" x=\"199\" y=\"-372.71\" font-family=\"Times,serif\" font-size=\"14.00\">~</text>\n",
       "<text text-anchor=\"middle\" x=\"199\" y=\"-357.71\" font-family=\"Times,serif\" font-size=\"14.00\">MutableData</text>\n",
       "</g>\n",
       "<!-- is_division&#45;&gt;p_before_noise -->\n",
       "<g id=\"edge17\" class=\"edge\">\n",
       "<title>is_division&#45;&gt;p_before_noise</title>\n",
       "<path fill=\"none\" stroke=\"black\" d=\"M254.24,-352.51C257.18,-351.57 260.11,-350.69 263,-349.91 402.17,-312.02 570.18,-292.16 663.55,-283.32\"/>\n",
       "<polygon fill=\"black\" stroke=\"black\" points=\"664.1,-286.78 673.73,-282.37 663.45,-279.81 664.1,-286.78\"/>\n",
       "</g>\n",
       "<!-- n_digits_addition_margin&#45;&gt;p_before_noise -->\n",
       "<g id=\"edge19\" class=\"edge\">\n",
       "<title>n_digits_addition_margin&#45;&gt;p_before_noise</title>\n",
       "<path fill=\"none\" stroke=\"black\" d=\"M577.69,-349.79C605.94,-336.8 640.42,-320.94 669.89,-307.38\"/>\n",
       "<polygon fill=\"black\" stroke=\"black\" points=\"671.65,-310.42 679.27,-303.06 668.72,-304.06 671.65,-310.42\"/>\n",
       "</g>\n",
       "<!-- finalP&#45;&gt;TaskPerformance -->\n",
       "<g id=\"edge23\" class=\"edge\">\n",
       "<title>finalP&#45;&gt;TaskPerformance</title>\n",
       "<path fill=\"none\" stroke=\"black\" d=\"M1047,-149.71C1047,-141.89 1047,-133.03 1047,-124.27\"/>\n",
       "<polygon fill=\"black\" stroke=\"black\" points=\"1050.5,-124.1 1047,-114.1 1043.5,-124.1 1050.5,-124.1\"/>\n",
       "</g>\n",
       "<!-- is_addition -->\n",
       "<g id=\"node12\" class=\"node\">\n",
       "<title>is_addition</title>\n",
       "<path fill=\"lightgrey\" stroke=\"black\" d=\"M114,-402.91C114,-402.91 28,-402.91 28,-402.91 22,-402.91 16,-396.91 16,-390.91 16,-390.91 16,-361.91 16,-361.91 16,-355.91 22,-349.91 28,-349.91 28,-349.91 114,-349.91 114,-349.91 120,-349.91 126,-355.91 126,-361.91 126,-361.91 126,-390.91 126,-390.91 126,-396.91 120,-402.91 114,-402.91\"/>\n",
       "<text text-anchor=\"middle\" x=\"71\" y=\"-387.71\" font-family=\"Times,serif\" font-size=\"14.00\">is_addition</text>\n",
       "<text text-anchor=\"middle\" x=\"71\" y=\"-372.71\" font-family=\"Times,serif\" font-size=\"14.00\">~</text>\n",
       "<text text-anchor=\"middle\" x=\"71\" y=\"-357.71\" font-family=\"Times,serif\" font-size=\"14.00\">MutableData</text>\n",
       "</g>\n",
       "<!-- is_addition&#45;&gt;p_before_noise -->\n",
       "<g id=\"edge20\" class=\"edge\">\n",
       "<title>is_addition&#45;&gt;p_before_noise</title>\n",
       "<path fill=\"none\" stroke=\"black\" d=\"M126.21,-352.39C129.16,-351.48 132.1,-350.65 135,-349.91 321.83,-302.26 549.6,-285.67 663.27,-280.11\"/>\n",
       "<polygon fill=\"black\" stroke=\"black\" points=\"663.75,-283.59 673.58,-279.62 663.42,-276.59 663.75,-283.59\"/>\n",
       "</g>\n",
       "<!-- n_digits_multiplication_capability -->\n",
       "<g id=\"node13\" class=\"node\">\n",
       "<title>n_digits_multiplication_capability</title>\n",
       "<ellipse fill=\"none\" stroke=\"black\" cx=\"2295\" cy=\"-476.38\" rx=\"180.12\" ry=\"37.45\"/>\n",
       "<text text-anchor=\"middle\" x=\"2295\" y=\"-487.68\" font-family=\"Times,serif\" font-size=\"14.00\">n_digits_multiplication_capability</text>\n",
       "<text text-anchor=\"middle\" x=\"2295\" y=\"-472.68\" font-family=\"Times,serif\" font-size=\"14.00\">~</text>\n",
       "<text text-anchor=\"middle\" x=\"2295\" y=\"-457.68\" font-family=\"Times,serif\" font-size=\"14.00\">Exponential</text>\n",
       "</g>\n",
       "<!-- n_digits_multiplication_capability&#45;&gt;n_digits_multiplication_margin -->\n",
       "<g id=\"edge10\" class=\"edge\">\n",
       "<title>n_digits_multiplication_capability&#45;&gt;n_digits_multiplication_margin</title>\n",
       "<path fill=\"none\" stroke=\"black\" d=\"M2172.41,-448.86C2150.39,-444.92 2127.58,-441.36 2106,-438.91 1662.97,-388.57 1543.89,-453.98 1096.07,-402.81\"/>\n",
       "<polygon fill=\"black\" stroke=\"black\" points=\"1096.44,-399.33 1086.1,-401.65 1095.63,-406.28 1096.44,-399.33\"/>\n",
       "</g>\n",
       "<!-- noise_level -->\n",
       "<g id=\"node14\" class=\"node\">\n",
       "<title>noise_level</title>\n",
       "<ellipse fill=\"none\" stroke=\"black\" cx=\"1542\" cy=\"-276.43\" rx=\"67.35\" ry=\"37.45\"/>\n",
       "<text text-anchor=\"middle\" x=\"1542\" y=\"-287.73\" font-family=\"Times,serif\" font-size=\"14.00\">noise_level</text>\n",
       "<text text-anchor=\"middle\" x=\"1542\" y=\"-272.73\" font-family=\"Times,serif\" font-size=\"14.00\">~</text>\n",
       "<text text-anchor=\"middle\" x=\"1542\" y=\"-257.73\" font-family=\"Times,serif\" font-size=\"14.00\">Uniform</text>\n",
       "</g>\n",
       "<!-- noise_level&#45;&gt;finalP -->\n",
       "<g id=\"edge21\" class=\"edge\">\n",
       "<title>noise_level&#45;&gt;finalP</title>\n",
       "<path fill=\"none\" stroke=\"black\" d=\"M1495.96,-249.02C1487.84,-245.17 1479.32,-241.61 1471,-238.95 1348.96,-199.95 1199.19,-185.59 1114.26,-180.37\"/>\n",
       "<polygon fill=\"black\" stroke=\"black\" points=\"1114.42,-176.87 1104.23,-179.78 1114.01,-183.86 1114.42,-176.87\"/>\n",
       "</g>\n",
       "<!-- n_digits_subtraction_capability -->\n",
       "<g id=\"node15\" class=\"node\">\n",
       "<title>n_digits_subtraction_capability</title>\n",
       "<ellipse fill=\"none\" stroke=\"black\" cx=\"2662\" cy=\"-476.38\" rx=\"168.08\" ry=\"37.45\"/>\n",
       "<text text-anchor=\"middle\" x=\"2662\" y=\"-487.68\" font-family=\"Times,serif\" font-size=\"14.00\">n_digits_subtraction_capability</text>\n",
       "<text text-anchor=\"middle\" x=\"2662\" y=\"-472.68\" font-family=\"Times,serif\" font-size=\"14.00\">~</text>\n",
       "<text text-anchor=\"middle\" x=\"2662\" y=\"-457.68\" font-family=\"Times,serif\" font-size=\"14.00\">Exponential</text>\n",
       "</g>\n",
       "<!-- n_digits_subtraction_capability&#45;&gt;n_digits_subtraction_margin -->\n",
       "<g id=\"edge8\" class=\"edge\">\n",
       "<title>n_digits_subtraction_capability&#45;&gt;n_digits_subtraction_margin</title>\n",
       "<path fill=\"none\" stroke=\"black\" d=\"M2547.09,-448.84C2526.19,-444.87 2504.52,-441.31 2484,-438.91 1979.03,-379.71 1842.84,-463.66 1333.96,-402.91\"/>\n",
       "<polygon fill=\"black\" stroke=\"black\" points=\"1334.13,-399.41 1323.78,-401.68 1333.29,-406.35 1334.13,-399.41\"/>\n",
       "</g>\n",
       "<!-- n_digits_capability -->\n",
       "<g id=\"node16\" class=\"node\">\n",
       "<title>n_digits_capability</title>\n",
       "<ellipse fill=\"none\" stroke=\"black\" cx=\"2121\" cy=\"-587.34\" rx=\"105.22\" ry=\"37.45\"/>\n",
       "<text text-anchor=\"middle\" x=\"2121\" y=\"-598.64\" font-family=\"Times,serif\" font-size=\"14.00\">n_digits_capability</text>\n",
       "<text text-anchor=\"middle\" x=\"2121\" y=\"-583.64\" font-family=\"Times,serif\" font-size=\"14.00\">~</text>\n",
       "<text text-anchor=\"middle\" x=\"2121\" y=\"-568.64\" font-family=\"Times,serif\" font-size=\"14.00\">Exponential</text>\n",
       "</g>\n",
       "<!-- n_digits_capability&#45;&gt;n_digits_multiplication_capability -->\n",
       "<g id=\"edge3\" class=\"edge\">\n",
       "<title>n_digits_capability&#45;&gt;n_digits_multiplication_capability</title>\n",
       "<path fill=\"none\" stroke=\"black\" d=\"M2172.26,-554.24C2190.69,-542.7 2211.7,-529.54 2231.07,-517.41\"/>\n",
       "<polygon fill=\"black\" stroke=\"black\" points=\"2232.93,-520.38 2239.55,-512.1 2229.22,-514.45 2232.93,-520.38\"/>\n",
       "</g>\n",
       "<!-- n_digits_capability&#45;&gt;n_digits_subtraction_capability -->\n",
       "<g id=\"edge2\" class=\"edge\">\n",
       "<title>n_digits_capability&#45;&gt;n_digits_subtraction_capability</title>\n",
       "<path fill=\"none\" stroke=\"black\" d=\"M2212.03,-568.29C2285.46,-553.71 2391.41,-532.59 2484,-513.86 2498.96,-510.83 2514.63,-507.65 2530.2,-504.47\"/>\n",
       "<polygon fill=\"black\" stroke=\"black\" points=\"2531.32,-507.81 2540.41,-502.38 2529.92,-500.96 2531.32,-507.81\"/>\n",
       "</g>\n",
       "<!-- n_digits_addition_capability -->\n",
       "<g id=\"node17\" class=\"node\">\n",
       "<title>n_digits_addition_capability</title>\n",
       "<ellipse fill=\"none\" stroke=\"black\" cx=\"1627\" cy=\"-476.38\" rx=\"152.06\" ry=\"37.45\"/>\n",
       "<text text-anchor=\"middle\" x=\"1627\" y=\"-487.68\" font-family=\"Times,serif\" font-size=\"14.00\">n_digits_addition_capability</text>\n",
       "<text text-anchor=\"middle\" x=\"1627\" y=\"-472.68\" font-family=\"Times,serif\" font-size=\"14.00\">~</text>\n",
       "<text text-anchor=\"middle\" x=\"1627\" y=\"-457.68\" font-family=\"Times,serif\" font-size=\"14.00\">Exponential</text>\n",
       "</g>\n",
       "<!-- n_digits_capability&#45;&gt;n_digits_addition_capability -->\n",
       "<g id=\"edge1\" class=\"edge\">\n",
       "<title>n_digits_capability&#45;&gt;n_digits_addition_capability</title>\n",
       "<path fill=\"none\" stroke=\"black\" d=\"M2031.91,-567.16C1964.82,-552.67 1870.59,-532.2 1788,-513.86 1774.72,-510.91 1760.82,-507.8 1747,-504.69\"/>\n",
       "<polygon fill=\"black\" stroke=\"black\" points=\"1747.49,-501.21 1736.96,-502.43 1745.95,-508.04 1747.49,-501.21\"/>\n",
       "</g>\n",
       "<!-- n_digits_division_capability -->\n",
       "<g id=\"node18\" class=\"node\">\n",
       "<title>n_digits_division_capability</title>\n",
       "<ellipse fill=\"none\" stroke=\"black\" cx=\"1947\" cy=\"-476.38\" rx=\"149.81\" ry=\"37.45\"/>\n",
       "<text text-anchor=\"middle\" x=\"1947\" y=\"-487.68\" font-family=\"Times,serif\" font-size=\"14.00\">n_digits_division_capability</text>\n",
       "<text text-anchor=\"middle\" x=\"1947\" y=\"-472.68\" font-family=\"Times,serif\" font-size=\"14.00\">~</text>\n",
       "<text text-anchor=\"middle\" x=\"1947\" y=\"-457.68\" font-family=\"Times,serif\" font-size=\"14.00\">Exponential</text>\n",
       "</g>\n",
       "<!-- n_digits_capability&#45;&gt;n_digits_division_capability -->\n",
       "<g id=\"edge4\" class=\"edge\">\n",
       "<title>n_digits_capability&#45;&gt;n_digits_division_capability</title>\n",
       "<path fill=\"none\" stroke=\"black\" d=\"M2069.74,-554.24C2050.96,-542.48 2029.5,-529.04 2009.83,-516.72\"/>\n",
       "<polygon fill=\"black\" stroke=\"black\" points=\"2011.56,-513.68 2001.23,-511.34 2007.85,-519.61 2011.56,-513.68\"/>\n",
       "</g>\n",
       "<!-- n_digits_addition_capability&#45;&gt;n_digits_addition_margin -->\n",
       "<g id=\"edge6\" class=\"edge\">\n",
       "<title>n_digits_addition_capability&#45;&gt;n_digits_addition_margin</title>\n",
       "<path fill=\"none\" stroke=\"black\" d=\"M1524.72,-448.6C1506.91,-444.76 1488.5,-441.31 1471,-438.91 1103.6,-388.54 1002.37,-452.97 630.12,-402.77\"/>\n",
       "<polygon fill=\"black\" stroke=\"black\" points=\"630.53,-399.3 620.15,-401.41 629.59,-406.23 630.53,-399.3\"/>\n",
       "</g>\n",
       "<!-- n_digits_division_capability&#45;&gt;n_digits_division_margin -->\n",
       "<g id=\"edge12\" class=\"edge\">\n",
       "<title>n_digits_division_capability&#45;&gt;n_digits_division_margin</title>\n",
       "<path fill=\"none\" stroke=\"black\" d=\"M1844.45,-448.9C1825.78,-444.92 1806.39,-441.34 1788,-438.91 1373.72,-384.01 1260.02,-459.25 841.55,-402.84\"/>\n",
       "<polygon fill=\"black\" stroke=\"black\" points=\"841.99,-399.37 831.61,-401.48 841.05,-406.3 841.99,-399.37\"/>\n",
       "</g>\n",
       "</g>\n",
       "</svg>\n"
      ],
      "text/plain": [
       "<graphviz.graphs.Digraph at 0x7f303ff40890>"
      ]
     },
     "execution_count": 19,
     "metadata": {},
     "output_type": "execute_result"
    }
   ],
   "source": [
    "# instantiate the model and plot the diagram\n",
    "model = setup_arithmetic_hierarchical_model(train_df, noise=True, slopes=False)\n",
    "\n",
    "pm.model_to_graphviz(model)"
   ]
  },
  {
   "cell_type": "markdown",
   "metadata": {},
   "source": [
    "## Do inference with the model  "
   ]
  },
  {
   "cell_type": "code",
   "execution_count": null,
   "metadata": {
    "ExecuteTime": {
     "start_time": "2024-01-29T20:35:34.913543679Z"
    },
    "is_executing": true
   },
   "outputs": [
    {
     "name": "stdout",
     "output_type": "stream",
     "text": [
      "text-ada-001\n"
     ]
    },
    {
     "name": "stderr",
     "output_type": "stream",
     "text": [
      "Auto-assigning NUTS sampler...\n",
      "Initializing NUTS using jitter+adapt_diag...\n",
      "Multiprocess sampling (4 chains in 4 jobs)\n",
      "NUTS: [n_digits_capability, n_digits_addition_capability, n_digits_subtraction_capability, n_digits_multiplication_capability, n_digits_division_capability, noise_level]\n"
     ]
    },
    {
     "data": {
      "text/html": [
       "\n",
       "<style>\n",
       "    /* Turns off some styling */\n",
       "    progress {\n",
       "        /* gets rid of default border in Firefox and Opera. */\n",
       "        border: none;\n",
       "        /* Needs to be in here for Safari polyfill so background images work as expected. */\n",
       "        background-size: auto;\n",
       "    }\n",
       "    progress:not([value]), progress:not([value])::-webkit-progress-bar {\n",
       "        background: repeating-linear-gradient(45deg, #7e7e7e, #7e7e7e 10px, #5c5c5c 10px, #5c5c5c 20px);\n",
       "    }\n",
       "    .progress-bar-interrupted, .progress-bar-interrupted::-webkit-progress-bar {\n",
       "        background: #F44336;\n",
       "    }\n",
       "</style>\n"
      ],
      "text/plain": [
       "<IPython.core.display.HTML object>"
      ]
     },
     "metadata": {},
     "output_type": "display_data"
    },
    {
     "data": {
      "text/html": [
       "\n",
       "    <div>\n",
       "      <progress value='12000' class='' max='12000' style='width:300px; height:20px; vertical-align: middle;'></progress>\n",
       "      100.00% [12000/12000 02:01&lt;00:00 Sampling 4 chains, 0 divergences]\n",
       "    </div>\n",
       "    "
      ],
      "text/plain": [
       "<IPython.core.display.HTML object>"
      ]
     },
     "metadata": {},
     "output_type": "display_data"
    },
    {
     "name": "stderr",
     "output_type": "stream",
     "text": [
      "Sampling 4 chains for 1_000 tune and 2_000 draw iterations (4_000 + 8_000 draws total) took 122 seconds.\n"
     ]
    },
    {
     "name": "stdout",
     "output_type": "stream",
     "text": [
      "text-babbage-001\n"
     ]
    },
    {
     "name": "stderr",
     "output_type": "stream",
     "text": [
      "Auto-assigning NUTS sampler...\n",
      "Initializing NUTS using jitter+adapt_diag...\n",
      "Multiprocess sampling (4 chains in 4 jobs)\n",
      "NUTS: [n_digits_capability, n_digits_addition_capability, n_digits_subtraction_capability, n_digits_multiplication_capability, n_digits_division_capability, noise_level]\n"
     ]
    },
    {
     "data": {
      "text/html": [
       "\n",
       "<style>\n",
       "    /* Turns off some styling */\n",
       "    progress {\n",
       "        /* gets rid of default border in Firefox and Opera. */\n",
       "        border: none;\n",
       "        /* Needs to be in here for Safari polyfill so background images work as expected. */\n",
       "        background-size: auto;\n",
       "    }\n",
       "    progress:not([value]), progress:not([value])::-webkit-progress-bar {\n",
       "        background: repeating-linear-gradient(45deg, #7e7e7e, #7e7e7e 10px, #5c5c5c 10px, #5c5c5c 20px);\n",
       "    }\n",
       "    .progress-bar-interrupted, .progress-bar-interrupted::-webkit-progress-bar {\n",
       "        background: #F44336;\n",
       "    }\n",
       "</style>\n"
      ],
      "text/plain": [
       "<IPython.core.display.HTML object>"
      ]
     },
     "metadata": {},
     "output_type": "display_data"
    },
    {
     "data": {
      "text/html": [
       "\n",
       "    <div>\n",
       "      <progress value='12000' class='' max='12000' style='width:300px; height:20px; vertical-align: middle;'></progress>\n",
       "      100.00% [12000/12000 02:24&lt;00:00 Sampling 4 chains, 0 divergences]\n",
       "    </div>\n",
       "    "
      ],
      "text/plain": [
       "<IPython.core.display.HTML object>"
      ]
     },
     "metadata": {},
     "output_type": "display_data"
    },
    {
     "name": "stderr",
     "output_type": "stream",
     "text": [
      "Sampling 4 chains for 1_000 tune and 2_000 draw iterations (4_000 + 8_000 draws total) took 145 seconds.\n"
     ]
    }
   ],
   "source": [
    "list_variables = [\"n_digits_capability\", \"n_digits_addition_capability\", \"n_digits_subtraction_capability\",\n",
    "                  \"n_digits_multiplication_capability\", \"n_digits_division_capability\", \"noise_level\"]\n",
    "\n",
    "n_samples = 2000\n",
    "tune = 1000\n",
    "RUN = True\n",
    "\n",
    "llms_for_mcmc = llms\n",
    "\n",
    "if RUN:\n",
    "    trace_dict = {}\n",
    "    for llm in llms_for_mcmc:\n",
    "        print(llm)\n",
    "        train_df = train_results_dict[llm]\n",
    "        model = setup_arithmetic_hierarchical_model(train_df, noise=True, slopes=False)\n",
    "\n",
    "        # inference\n",
    "        with model:\n",
    "            trace = pm.sample(n_samples, tune=tune)\n",
    "        trace_dict[llm] = trace['posterior'][list_variables]"
   ]
  },
  {
   "cell_type": "markdown",
   "metadata": {},
   "source": [
    "Save the traces to file"
   ]
  },
  {
   "cell_type": "code",
   "execution_count": 1,
   "metadata": {
    "is_executing": true
   },
   "outputs": [
    {
     "ename": "NameError",
     "evalue": "name 'RUN' is not defined",
     "output_type": "error",
     "traceback": [
      "\u001B[0;31m---------------------------------------------------------------------------\u001B[0m",
      "\u001B[0;31mNameError\u001B[0m                                 Traceback (most recent call last)",
      "Cell \u001B[0;32mIn[1], line 1\u001B[0m\n\u001B[0;32m----> 1\u001B[0m \u001B[38;5;28;01mif\u001B[39;00m RUN:\n\u001B[1;32m      2\u001B[0m     \u001B[38;5;28;01mwith\u001B[39;00m \u001B[38;5;28mopen\u001B[39m(\u001B[38;5;124m\"\u001B[39m\u001B[38;5;124mresults/arithmetic_traces_hierarhical.pkl\u001B[39m\u001B[38;5;124m\"\u001B[39m, \u001B[38;5;124m\"\u001B[39m\u001B[38;5;124mwb\u001B[39m\u001B[38;5;124m\"\u001B[39m) \u001B[38;5;28;01mas\u001B[39;00m f:\n\u001B[1;32m      3\u001B[0m         pickle\u001B[38;5;241m.\u001B[39mdump(trace_dict, f)\n",
      "\u001B[0;31mNameError\u001B[0m: name 'RUN' is not defined"
     ]
    }
   ],
   "source": [
    "if RUN:\n",
    "    with open(\"results/arithmetic_traces_hierarhical.pkl\", \"wb\") as f:\n",
    "        pickle.dump(trace_dict, f)"
   ]
  },
  {
   "cell_type": "markdown",
   "metadata": {},
   "source": [
    "Reload the traces from file:"
   ]
  },
  {
   "cell_type": "code",
   "execution_count": null,
   "metadata": {
    "is_executing": true
   },
   "outputs": [],
   "source": [
    "# load:\n",
    "with open(\"results/arithmetic_traces_hierarhical.pkl\", \"rb\") as f:\n",
    "    trace_dict = pickle.load(f)"
   ]
  },
  {
   "cell_type": "code",
   "execution_count": null,
   "metadata": {
    "is_executing": true
   },
   "outputs": [],
   "source": [
    "type(trace_dict)"
   ]
  },
  {
   "cell_type": "code",
   "execution_count": null,
   "metadata": {
    "is_executing": true
   },
   "outputs": [],
   "source": [
    "for llm in llms_for_mcmc:\n",
    "    print(llm)\n",
    "    az.plot_trace(data=trace_dict[llm], var_names=list_variables)"
   ]
  },
  {
   "cell_type": "markdown",
   "metadata": {},
   "source": [
    "Boxplot of the capabilities of all LLMs:"
   ]
  },
  {
   "cell_type": "code",
   "execution_count": null,
   "metadata": {
    "is_executing": true
   },
   "outputs": [],
   "source": [
    "list_variables = [\"n_digits_capability\", \"n_digits_addition_capability\", \"n_digits_subtraction_capability\",\n",
    "                  \"n_digits_multiplication_capability\", \"n_digits_division_capability\", \"noise_level\"]\n",
    "\n",
    "fig, axes = plt.subplots(len(list_variables), 1, figsize=(8, 3 * len(list_variables)), sharex=\"col\")\n",
    "if len(list_variables) == 1:\n",
    "    axes = [axes]\n",
    "for ax, capability in zip(axes, list_variables):\n",
    "    ax.boxplot([trace_dict[llm][capability].to_numpy().flatten() for llm in llms_for_mcmc])\n",
    "    ax.set_title(capability)\n",
    "ax.set_xticks(np.arange(len(llms_for_mcmc)) + 1, llms_for_mcmc, rotation=90)\n",
    "plt.show()"
   ]
  },
  {
   "cell_type": "markdown",
   "metadata": {},
   "source": [
    "### Evaluate the predictive performance of this model"
   ]
  },
  {
   "cell_type": "code",
   "execution_count": null,
   "metadata": {
    "is_executing": true
   },
   "outputs": [],
   "source": [
    "def predict(m, trace, df_test):\n",
    "    with m:\n",
    "        predictions = pm.sample_posterior_predictive(trace, var_names=[\"finalP\"], return_inferencedata=False,\n",
    "                                                     predictions=True, extend_inferencedata=False, random_seed=0)\n",
    "        # the above generates one predictive sample for each posterior sample\n",
    "        predictionChainRuns = predictions[\"finalP\"][:, :, 0:len(df_test)]\n",
    "        predictionsInstance = np.mean(predictionChainRuns, (0, 1))\n",
    "\n",
    "        return predictionsInstance"
   ]
  },
  {
   "cell_type": "code",
   "execution_count": null,
   "metadata": {
    "is_executing": true
   },
   "outputs": [],
   "source": [
    "for llm in llms_for_mcmc:\n",
    "    print(llm)\n",
    "    df_train = train_results_dict[llm]\n",
    "    df_test = test_results_dict[llm]\n",
    "\n",
    "    trace = trace_dict[llm]\n",
    "\n",
    "    # re-instantiate the model with the test data\n",
    "    bayesian_model = setup_arithmetic_hierarchical_model(df_test, noise=True, slopes=False)\n",
    "\n",
    "    predictions = predict(bayesian_model, trace, df_test)\n",
    "    BrierScore, Calibration, Refinement = brierDecomp(predictions, df_test[\"Success\"])\n",
    "    roc_auc = roc_auc_score(df_test[\"Success\"], predictions)\n",
    "    predictive_methods_df = pd.concat([predictive_methods_df, pd.DataFrame(\n",
    "        {\"predictive_method\": \"bayesian_model\", \"llm\": llm, \"BrierScore\": BrierScore, \"Calibration\": Calibration,\n",
    "         \"Refinement\": Refinement, \"AUROC\": roc_auc, }, index=[0])])\n"
   ]
  },
  {
   "cell_type": "code",
   "execution_count": null,
   "metadata": {
    "is_executing": true
   },
   "outputs": [],
   "source": [
    "sns.catplot(x=\"llm\", y=\"BrierScore\", hue=\"predictive_method\", data=predictive_methods_df, kind=\"bar\", height=4,\n",
    "            aspect=3)\n",
    "# set the ylim\n",
    "plt.ylim(0, 0.3)\n",
    "plt.title(\"In distribution\")"
   ]
  }
 ],
 "metadata": {
  "colab": {
   "provenance": []
  },
  "kernelspec": {
   "display_name": "Python 3 (ipykernel)",
   "language": "python",
   "name": "python3"
  },
  "language_info": {
   "codemirror_mode": {
    "name": "ipython",
    "version": 3
   },
   "file_extension": ".py",
   "mimetype": "text/x-python",
   "name": "python",
   "nbconvert_exporter": "python",
   "pygments_lexer": "ipython3",
   "version": "3.11.6"
  }
 },
 "nbformat": 4,
 "nbformat_minor": 1
}
